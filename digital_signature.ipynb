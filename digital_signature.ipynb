{
 "cells": [
  {
   "cell_type": "code",
   "execution_count": 6,
   "id": "22373673",
   "metadata": {},
   "outputs": [
    {
     "name": "stdout",
     "output_type": "stream",
     "text": [
      "Enter your message:hi baby\n",
      "f9dc7b4da5ccc7995d3a030f6f0c85c6a08dd6ed05c272cdfd6aaa84ae787b6d\n"
     ]
    }
   ],
   "source": [
    "import hashlib\n",
    "\n",
    "message = input(\"Enter your message:\")\n",
    "h = hashlib.sha256() # Construct a hash object using our selected hashing algorithm\n",
    "h.update(message.encode('utf-8')) # Update the hash using a bytes object\n",
    "print(h.hexdigest()) # Print the hash value as a hex string\n"
   ]
  },
  {
   "cell_type": "code",
   "execution_count": null,
   "id": "421d3e9d",
   "metadata": {},
   "outputs": [],
   "source": [
    "Enter your message:hii baby\n",
    "0bbddb53b1aecf1602cc7d39cc3caa5c38490b05ce84fc2201283a865c3a1ace"
   ]
  }
 ],
 "metadata": {
  "kernelspec": {
   "display_name": "Python 3 (ipykernel)",
   "language": "python",
   "name": "python3"
  },
  "language_info": {
   "codemirror_mode": {
    "name": "ipython",
    "version": 3
   },
   "file_extension": ".py",
   "mimetype": "text/x-python",
   "name": "python",
   "nbconvert_exporter": "python",
   "pygments_lexer": "ipython3",
   "version": "3.9.7"
  }
 },
 "nbformat": 4,
 "nbformat_minor": 5
}
